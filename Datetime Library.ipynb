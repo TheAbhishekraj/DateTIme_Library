{
 "cells": [
  {
   "cell_type": "code",
   "execution_count": 5,
   "id": "a5347e05",
   "metadata": {},
   "outputs": [],
   "source": [
    "import datetime\n"
   ]
  },
  {
   "cell_type": "markdown",
   "id": "0ead1c06",
   "metadata": {},
   "source": [
    "date()"
   ]
  },
  {
   "cell_type": "code",
   "execution_count": 14,
   "id": "689fd59e",
   "metadata": {},
   "outputs": [
    {
     "ename": "SyntaxError",
     "evalue": "invalid syntax (2851169545.py, line 1)",
     "output_type": "error",
     "traceback": [
      "\u001b[1;36m  Cell \u001b[1;32mIn [14], line 1\u001b[1;36m\u001b[0m\n\u001b[1;33m    datetime.date(year: int, month: int, day: int)\u001b[0m\n\u001b[1;37m                      ^\u001b[0m\n\u001b[1;31mSyntaxError\u001b[0m\u001b[1;31m:\u001b[0m invalid syntax\n"
     ]
    }
   ],
   "source": [
    "datetime.date(year: int, month: int, day: int)"
   ]
  },
  {
   "cell_type": "code",
   "execution_count": 9,
   "id": "f65c9cd1",
   "metadata": {},
   "outputs": [],
   "source": [
    "from datetime import date\n",
    "obj = date(2022, 12, 1)"
   ]
  },
  {
   "cell_type": "code",
   "execution_count": 10,
   "id": "5ce23dea",
   "metadata": {},
   "outputs": [
    {
     "data": {
      "text/plain": [
       "2022"
      ]
     },
     "execution_count": 10,
     "metadata": {},
     "output_type": "execute_result"
    }
   ],
   "source": [
    "obj.year"
   ]
  },
  {
   "cell_type": "code",
   "execution_count": 11,
   "id": "e2184f98",
   "metadata": {},
   "outputs": [
    {
     "data": {
      "text/plain": [
       "12"
      ]
     },
     "execution_count": 11,
     "metadata": {},
     "output_type": "execute_result"
    }
   ],
   "source": [
    "obj.month"
   ]
  },
  {
   "cell_type": "code",
   "execution_count": 12,
   "id": "6b011d11",
   "metadata": {},
   "outputs": [
    {
     "data": {
      "text/plain": [
       "1"
      ]
     },
     "execution_count": 12,
     "metadata": {},
     "output_type": "execute_result"
    }
   ],
   "source": [
    "obj.day"
   ]
  },
  {
   "cell_type": "markdown",
   "id": "b23f9b00",
   "metadata": {},
   "source": [
    "time()\n",
    "datetime.time(hour: int, minute: int, second: int)\n"
   ]
  },
  {
   "cell_type": "code",
   "execution_count": 29,
   "id": "1d881bc5",
   "metadata": {},
   "outputs": [
    {
     "data": {
      "text/plain": [
       "datetime.time(0, 0)"
      ]
     },
     "execution_count": 29,
     "metadata": {},
     "output_type": "execute_result"
    }
   ],
   "source": [
    " from datetime import time\n",
    "obj = time(10, 20, 33)"
   ]
  },
  {
   "cell_type": "code",
   "execution_count": 21,
   "id": "5f0f411f",
   "metadata": {},
   "outputs": [
    {
     "data": {
      "text/plain": [
       "10"
      ]
     },
     "execution_count": 21,
     "metadata": {},
     "output_type": "execute_result"
    }
   ],
   "source": [
    "obj.hour"
   ]
  },
  {
   "cell_type": "code",
   "execution_count": 22,
   "id": "9b085baf",
   "metadata": {},
   "outputs": [
    {
     "data": {
      "text/plain": [
       "33"
      ]
     },
     "execution_count": 22,
     "metadata": {},
     "output_type": "execute_result"
    }
   ],
   "source": [
    "obj.second"
   ]
  },
  {
   "cell_type": "code",
   "execution_count": 23,
   "id": "a261f60a",
   "metadata": {},
   "outputs": [
    {
     "data": {
      "text/plain": [
       "0"
      ]
     },
     "execution_count": 23,
     "metadata": {},
     "output_type": "execute_result"
    }
   ],
   "source": [
    "obj.microsecond"
   ]
  },
  {
   "cell_type": "code",
   "execution_count": 41,
   "id": "442e93b7",
   "metadata": {},
   "outputs": [],
   "source": [
    "# obj.tzinfo for Time Zone"
   ]
  },
  {
   "cell_type": "markdown",
   "id": "1bdd4453",
   "metadata": {},
   "source": [
    "datetime()\n",
    "datetime.datetime(year, month, day, hour, minute, second)"
   ]
  },
  {
   "cell_type": "code",
   "execution_count": 32,
   "id": "36ee111c",
   "metadata": {},
   "outputs": [],
   "source": [
    " from datetime import datetime\n",
    "obj = datetime(2024, 12, 1, 15, 35, 59)"
   ]
  },
  {
   "cell_type": "code",
   "execution_count": 33,
   "id": "786743a7",
   "metadata": {},
   "outputs": [
    {
     "data": {
      "text/plain": [
       "2024"
      ]
     },
     "execution_count": 33,
     "metadata": {},
     "output_type": "execute_result"
    }
   ],
   "source": [
    "obj.year"
   ]
  },
  {
   "cell_type": "code",
   "execution_count": 34,
   "id": "b9966d9e",
   "metadata": {},
   "outputs": [
    {
     "data": {
      "text/plain": [
       "12"
      ]
     },
     "execution_count": 34,
     "metadata": {},
     "output_type": "execute_result"
    }
   ],
   "source": [
    "obj.month"
   ]
  },
  {
   "cell_type": "code",
   "execution_count": 35,
   "id": "c7c00287",
   "metadata": {},
   "outputs": [
    {
     "data": {
      "text/plain": [
       "1"
      ]
     },
     "execution_count": 35,
     "metadata": {},
     "output_type": "execute_result"
    }
   ],
   "source": [
    "obj.day"
   ]
  },
  {
   "cell_type": "code",
   "execution_count": 37,
   "id": "e78f08bd",
   "metadata": {},
   "outputs": [
    {
     "data": {
      "text/plain": [
       "15"
      ]
     },
     "execution_count": 37,
     "metadata": {},
     "output_type": "execute_result"
    }
   ],
   "source": [
    "obj.hour"
   ]
  },
  {
   "cell_type": "code",
   "execution_count": 38,
   "id": "100a62b1",
   "metadata": {},
   "outputs": [
    {
     "data": {
      "text/plain": [
       "35"
      ]
     },
     "execution_count": 38,
     "metadata": {},
     "output_type": "execute_result"
    }
   ],
   "source": [
    "obj.minute"
   ]
  },
  {
   "cell_type": "code",
   "execution_count": 39,
   "id": "19fd774e",
   "metadata": {},
   "outputs": [
    {
     "data": {
      "text/plain": [
       "59"
      ]
     },
     "execution_count": 39,
     "metadata": {},
     "output_type": "execute_result"
    }
   ],
   "source": [
    "obj.second"
   ]
  },
  {
   "cell_type": "code",
   "execution_count": 44,
   "id": "55aded75",
   "metadata": {},
   "outputs": [
    {
     "data": {
      "text/plain": [
       "datetime.datetime(2022, 9, 25, 16, 33, 56, 822965)"
      ]
     },
     "execution_count": 44,
     "metadata": {},
     "output_type": "execute_result"
    }
   ],
   "source": [
    "#Now Time\n",
    "now = datetime.now()\n",
    "now"
   ]
  },
  {
   "cell_type": "code",
   "execution_count": 45,
   "id": "260dc608",
   "metadata": {},
   "outputs": [
    {
     "data": {
      "text/plain": [
       "2022"
      ]
     },
     "execution_count": 45,
     "metadata": {},
     "output_type": "execute_result"
    }
   ],
   "source": [
    "now.year"
   ]
  },
  {
   "cell_type": "code",
   "execution_count": 46,
   "id": "1826ad93",
   "metadata": {},
   "outputs": [
    {
     "data": {
      "text/plain": [
       "9"
      ]
     },
     "execution_count": 46,
     "metadata": {},
     "output_type": "execute_result"
    }
   ],
   "source": [
    "now.month"
   ]
  },
  {
   "cell_type": "code",
   "execution_count": 47,
   "id": "13722ceb",
   "metadata": {},
   "outputs": [
    {
     "data": {
      "text/plain": [
       "25"
      ]
     },
     "execution_count": 47,
     "metadata": {},
     "output_type": "execute_result"
    }
   ],
   "source": [
    "now.day\n"
   ]
  },
  {
   "cell_type": "code",
   "execution_count": 50,
   "id": "5bd741bc",
   "metadata": {},
   "outputs": [
    {
     "data": {
      "text/plain": [
       "16"
      ]
     },
     "execution_count": 50,
     "metadata": {},
     "output_type": "execute_result"
    }
   ],
   "source": [
    "now.hour"
   ]
  },
  {
   "cell_type": "code",
   "execution_count": 51,
   "id": "a35cc98d",
   "metadata": {},
   "outputs": [
    {
     "data": {
      "text/plain": [
       "33"
      ]
     },
     "execution_count": 51,
     "metadata": {},
     "output_type": "execute_result"
    }
   ],
   "source": [
    "now.minute"
   ]
  },
  {
   "cell_type": "code",
   "execution_count": 53,
   "id": "12f8db17",
   "metadata": {},
   "outputs": [
    {
     "data": {
      "text/plain": [
       "56"
      ]
     },
     "execution_count": 53,
     "metadata": {},
     "output_type": "execute_result"
    }
   ],
   "source": [
    "now.second"
   ]
  },
  {
   "cell_type": "code",
   "execution_count": 54,
   "id": "ad394bda",
   "metadata": {},
   "outputs": [
    {
     "data": {
      "text/plain": [
       "822965"
      ]
     },
     "execution_count": 54,
     "metadata": {},
     "output_type": "execute_result"
    }
   ],
   "source": [
    "now.microsecond"
   ]
  },
  {
   "cell_type": "code",
   "execution_count": 55,
   "id": "e458410f",
   "metadata": {},
   "outputs": [
    {
     "data": {
      "text/plain": [
       "datetime.datetime(2022, 9, 25, 16, 36, 37, 807577)"
      ]
     },
     "execution_count": 55,
     "metadata": {},
     "output_type": "execute_result"
    }
   ],
   "source": [
    "#Today Time or Now \n",
    "td = datetime.today()\n",
    "td"
   ]
  },
  {
   "cell_type": "code",
   "execution_count": null,
   "id": "073ecf80",
   "metadata": {},
   "outputs": [],
   "source": [
    "# now can take a timezone object as an optional parameter:"
   ]
  },
  {
   "cell_type": "code",
   "execution_count": 56,
   "id": "409e8423",
   "metadata": {},
   "outputs": [
    {
     "data": {
      "text/plain": [
       "datetime.datetime(2022, 9, 25, 11, 7, 44, 935771, tzinfo=datetime.timezone.utc)"
      ]
     },
     "execution_count": 56,
     "metadata": {},
     "output_type": "execute_result"
    }
   ],
   "source": [
    "from datetime import datetime, timezone\n",
    "datetime.now(timezone.utc)"
   ]
  },
  {
   "cell_type": "markdown",
   "id": "232c8e74",
   "metadata": {},
   "source": [
    "# strftime() and strptime()\n",
    "You can easily transform between strings and datetime objects with the strftime and strptime methods.\n",
    "\n",
    "strftime()\n",
    "strftime allow us to create human formatted strings out of a Python datetime object:"
   ]
  },
  {
   "cell_type": "code",
   "execution_count": 59,
   "id": "3ff164b4",
   "metadata": {},
   "outputs": [
    {
     "data": {
      "text/plain": [
       "datetime.datetime(2022, 9, 25, 16, 33, 56, 822965)"
      ]
     },
     "execution_count": 59,
     "metadata": {},
     "output_type": "execute_result"
    }
   ],
   "source": [
    "now"
   ]
  },
  {
   "cell_type": "code",
   "execution_count": 60,
   "id": "d35c9dca",
   "metadata": {},
   "outputs": [
    {
     "data": {
      "text/plain": [
       "'25-Sep-2022'"
      ]
     },
     "execution_count": 60,
     "metadata": {},
     "output_type": "execute_result"
    }
   ],
   "source": [
    "now.strftime(\"%d-%b-%Y\")"
   ]
  },
  {
   "cell_type": "code",
   "execution_count": 61,
   "id": "47bed7ec",
   "metadata": {},
   "outputs": [
    {
     "data": {
      "text/plain": [
       "'25-09-2022'"
      ]
     },
     "execution_count": 61,
     "metadata": {},
     "output_type": "execute_result"
    }
   ],
   "source": [
    "now.strftime(\"%d-%m-%Y\")"
   ]
  },
  {
   "cell_type": "code",
   "execution_count": 65,
   "id": "ad92681a",
   "metadata": {},
   "outputs": [
    {
     "data": {
      "text/plain": [
       "'09/25/2022'"
      ]
     },
     "execution_count": 65,
     "metadata": {},
     "output_type": "execute_result"
    }
   ],
   "source": [
    "now.strftime(\"%m/%d/%Y\")"
   ]
  },
  {
   "cell_type": "code",
   "execution_count": 63,
   "id": "a149ad04",
   "metadata": {},
   "outputs": [
    {
     "data": {
      "text/plain": [
       "'25-09-2022'"
      ]
     },
     "execution_count": 63,
     "metadata": {},
     "output_type": "execute_result"
    }
   ],
   "source": [
    "now.strftime(\"%d-%m-%Y\")"
   ]
  },
  {
   "cell_type": "code",
   "execution_count": 66,
   "id": "6dd2e286",
   "metadata": {},
   "outputs": [
    {
     "data": {
      "text/plain": [
       "'Sep/25/2022 - 16:33:56'"
      ]
     },
     "execution_count": 66,
     "metadata": {},
     "output_type": "execute_result"
    }
   ],
   "source": [
    "now.strftime(\"%b/%d/%Y - %H:%M:%S\")"
   ]
  },
  {
   "cell_type": "code",
   "execution_count": 86,
   "id": "4be542d7",
   "metadata": {},
   "outputs": [
    {
     "data": {
      "text/plain": [
       "'09/2022'"
      ]
     },
     "execution_count": 86,
     "metadata": {},
     "output_type": "execute_result"
    }
   ],
   "source": [
    "#Month Year\n",
    "now.strftime(\"%m/%Y\")"
   ]
  },
  {
   "cell_type": "code",
   "execution_count": 85,
   "id": "a7c548f4",
   "metadata": {},
   "outputs": [
    {
     "data": {
      "text/plain": [
       "'38/2022'"
      ]
     },
     "execution_count": 85,
     "metadata": {},
     "output_type": "execute_result"
    }
   ],
   "source": [
    "#Week Year\n",
    "now.strftime(\"%W/%Y\")"
   ]
  },
  {
   "cell_type": "markdown",
   "id": "0c221623",
   "metadata": {},
   "source": [
    "find the strings passed to strftime to be a little strange, but it is pretty easy to understand its meaning. For example, %m/%d/%Y will return the month, day, and year separated by / (07/23/2022)."
   ]
  },
  {
   "cell_type": "markdown",
   "id": "2c411077",
   "metadata": {},
   "source": [
    "# strptime()\n",
    "The strptime method creates a datetime object from a string.\n",
    "This method accepts two parameters:\n",
    "obj.strptime(datetime_string, format)\n",
    "A string representing a datetime object.\n",
    "The python format code equivalent to that string."
   ]
  },
  {
   "cell_type": "code",
   "execution_count": 70,
   "id": "8bed2160",
   "metadata": {},
   "outputs": [
    {
     "data": {
      "text/plain": [
       "datetime.datetime(2023, 7, 12, 0, 0)"
      ]
     },
     "execution_count": 70,
     "metadata": {},
     "output_type": "execute_result"
    }
   ],
   "source": [
    "datetime_str = '12-Jul-2023'\n",
    "datetime.strptime(datetime_str, '%d-%b-%Y')"
   ]
  },
  {
   "cell_type": "code",
   "execution_count": 97,
   "id": "c82262fd",
   "metadata": {},
   "outputs": [
    {
     "data": {
      "text/plain": [
       "datetime.datetime(2023, 7, 12, 14, 38, 37)"
      ]
     },
     "execution_count": 97,
     "metadata": {},
     "output_type": "execute_result"
    }
   ],
   "source": [
    "datetime_str = 'Jul/12/2023 - 14:38:37'\n",
    "datetime.strptime(datetime_str, \"%b/%d/%Y - %H:%M:%S\")\n"
   ]
  },
  {
   "cell_type": "code",
   "execution_count": 140,
   "id": "679229c1",
   "metadata": {},
   "outputs": [
    {
     "ename": "TypeError",
     "evalue": "unsupported operand type(s) for +: 'datetime.datetime' and 'int'",
     "output_type": "error",
     "traceback": [
      "\u001b[1;31m---------------------------------------------------------------------------\u001b[0m",
      "\u001b[1;31mTypeError\u001b[0m                                 Traceback (most recent call last)",
      "Cell \u001b[1;32mIn [140], line 2\u001b[0m\n\u001b[0;32m      1\u001b[0m datetime_str \u001b[38;5;241m=\u001b[39m \u001b[38;5;124m'\u001b[39m\u001b[38;5;124m32/2021\u001b[39m\u001b[38;5;124m'\u001b[39m\n\u001b[1;32m----> 2\u001b[0m \u001b[43mdatetime\u001b[49m\u001b[38;5;241;43m.\u001b[39;49m\u001b[43mstrptime\u001b[49m\u001b[43m(\u001b[49m\u001b[43mdatetime_str\u001b[49m\u001b[43m,\u001b[49m\u001b[38;5;124;43m\"\u001b[39;49m\u001b[38;5;124;43m%\u001b[39;49m\u001b[38;5;124;43mW/\u001b[39;49m\u001b[38;5;124;43m%\u001b[39;49m\u001b[38;5;124;43mY\u001b[39;49m\u001b[38;5;124;43m\"\u001b[39;49m\u001b[43m)\u001b[49m\u001b[43m \u001b[49m\u001b[38;5;241;43m+\u001b[39;49m\u001b[38;5;241;43m10\u001b[39;49m\n",
      "\u001b[1;31mTypeError\u001b[0m: unsupported operand type(s) for +: 'datetime.datetime' and 'int'"
     ]
    }
   ],
   "source": [
    "datetime_str = '32/2021'\n",
    "datetime.strptime(datetime_str,\"%W/%Y\")"
   ]
  },
  {
   "cell_type": "code",
   "execution_count": 133,
   "id": "7920b503",
   "metadata": {},
   "outputs": [
    {
     "ename": "AttributeError",
     "evalue": "'str' object has no attribute 'strftime'",
     "output_type": "error",
     "traceback": [
      "\u001b[1;31m---------------------------------------------------------------------------\u001b[0m",
      "\u001b[1;31mAttributeError\u001b[0m                            Traceback (most recent call last)",
      "Cell \u001b[1;32mIn [133], line 1\u001b[0m\n\u001b[1;32m----> 1\u001b[0m \u001b[43mdatetime_str\u001b[49m\u001b[38;5;241;43m.\u001b[39;49m\u001b[43mstrftime\u001b[49m(\u001b[38;5;124m\"\u001b[39m\u001b[38;5;124m%\u001b[39m\u001b[38;5;124mW/\u001b[39m\u001b[38;5;124m%\u001b[39m\u001b[38;5;124mY\u001b[39m\u001b[38;5;124m\"\u001b[39m)\n",
      "\u001b[1;31mAttributeError\u001b[0m: 'str' object has no attribute 'strftime'"
     ]
    }
   ],
   "source": []
  },
  {
   "cell_type": "markdown",
   "id": "df90c3bf",
   "metadata": {},
   "source": [
    "# Format Codes\n",
    "Directive\tMeaning\tExample\n",
    "%a\tWeekday as locale’s abbreviated name.\tSun, Mon, …, Sat (en_US)\n",
    "%A\tWeekday as locale’s full name.\tSunday, Monday, …, Saturday (en_US)\n",
    "%w\tWeekday as a decimal number, where 0 is Sunday and 6 is Saturday.\t0, 1, …, 6\n",
    "%d\tDay of the month as a zero-padded decimal number.\t01, 02, …, 31\n",
    "%b\tMonth as locale’s abbreviated name.\tJan, Feb, …, Dec (en_US)\n",
    "%B\tMonth as locale’s full name.\tJanuary, February, …, December (en_US)\n",
    "%m\tMonth as a zero-padded decimal number.\t01, 02, …, 12\n",
    "%y\tYear without century as a zero-padded decimal number.\t00, 01, …, 99\n",
    "%Y\tYear with century as a decimal number.\t0001, 0002, …, 2013, 2014, …, 9998, 9999\n",
    "%H\tHour (24-hour clock) as a zero-padded decimal number.\t00, 01, …, 23\n",
    "%I\tHour (12-hour clock) as a zero-padded decimal number.\t01, 02, …, 12\n",
    "%p\tLocale’s equivalent of either AM or PM.\tAM, PM (en_US)\n",
    "%M\tMinute as a zero-padded decimal number.\t00, 01, …, 59\n",
    "%S\tSecond as a zero-padded decimal number.\t00, 01, …, 59\n",
    "%f\tMicrosecond as a decimal number, zero-padded on the left.\t000000, 000001, …, 999999\n",
    "%z\tUTC offset in the form ±HHMM[SS[.ffffff]] (empty string if the object is naive).\t(empty), +0000, -0400, +1030, +063415, -030712.345216\n",
    "%Z\tTime zone name (empty string if the object is naive).\t(empty), UTC, GMT\n",
    "%j\tDay of the year as a zero-padded decimal number.\t001, 002, …, 366\n",
    "%U\tWeek number of the year (Sunday as the first day of the week) as a zero padded decimal number. All days in a new year preceding the first Sunday are considered to be in week 0.\t00, 01, …, 53\n",
    "%W\tWeek number of the year (Monday as the first day of the week) as a decimal number. All days in a new year preceding the first Monday are considered to be in week 0.\t00, 01, …, 53\n",
    "%c\tLocale’s appropriate date and time representation.\tTue Aug 16 21:30:00 1988 (en_US)\n",
    "%x\tLocale’s appropriate date representation.\t08/16/88 (None)\n",
    "%X\tLocale’s appropriate time representation.\t21:30:00 (en_US)\n",
    "%%\tA literal '%' character.\t%"
   ]
  },
  {
   "cell_type": "markdown",
   "id": "7ee2270a",
   "metadata": {},
   "source": [
    "# timedelta()\n",
    "The timedelta object represents the difference between two dates or times."
   ]
  },
  {
   "cell_type": "code",
   "execution_count": 101,
   "id": "f205df9b",
   "metadata": {},
   "outputs": [
    {
     "data": {
      "text/plain": [
       "datetime.timedelta(days=173)"
      ]
     },
     "execution_count": 101,
     "metadata": {},
     "output_type": "execute_result"
    }
   ],
   "source": [
    "from datetime import datetime\n",
    ">>> date_1 = datetime.strptime('12-Jul-2023', '%d-%b-%Y')\n",
    ">>> date_2 = datetime.strptime('01-Jan-2024', '%d-%b-%Y')\n",
    ">>> difference = date_2 - date_1\n",
    ">>> difference"
   ]
  },
  {
   "cell_type": "code",
   "execution_count": 105,
   "id": "bd39d0d2",
   "metadata": {},
   "outputs": [
    {
     "data": {
      "text/plain": [
       "datetime.datetime(2022, 9, 25, 17, 11, 10, 731510)"
      ]
     },
     "execution_count": 105,
     "metadata": {},
     "output_type": "execute_result"
    }
   ],
   "source": [
    "#nowtimedelta can add days, seconds and microseconds to a datetime object:\n",
    "from datetime import datetime, timedelta\n",
    "now = datetime.now()\n",
    "now"
   ]
  },
  {
   "cell_type": "code",
   "execution_count": 106,
   "id": "9c9e4764",
   "metadata": {},
   "outputs": [
    {
     "data": {
      "text/plain": [
       "datetime.datetime(2022, 10, 5, 17, 11, 25, 731510)"
      ]
     },
     "execution_count": 106,
     "metadata": {},
     "output_type": "execute_result"
    }
   ],
   "source": [
    "now + timedelta(days=10, seconds=15)"
   ]
  },
  {
   "cell_type": "code",
   "execution_count": 156,
   "id": "7f2865e9",
   "metadata": {},
   "outputs": [
    {
     "data": {
      "text/plain": [
       "datetime.datetime(2021, 1, 1, 0, 0)"
      ]
     },
     "execution_count": 156,
     "metadata": {},
     "output_type": "execute_result"
    }
   ],
   "source": [
    "str1='06/2021'\n",
    "datetime.strptime(str1,\"%W/%Y\")"
   ]
  },
  {
   "cell_type": "code",
   "execution_count": 153,
   "id": "405e1a3a",
   "metadata": {},
   "outputs": [
    {
     "data": {
      "text/plain": [
       "'20/202232/2021202020'"
      ]
     },
     "execution_count": 153,
     "metadata": {},
     "output_type": "execute_result"
    }
   ],
   "source": [
    "str1 + datetime_str"
   ]
  },
  {
   "cell_type": "code",
   "execution_count": null,
   "id": "0f163f86",
   "metadata": {},
   "outputs": [],
   "source": []
  }
 ],
 "metadata": {
  "kernelspec": {
   "display_name": "Python 3 (ipykernel)",
   "language": "python",
   "name": "python3"
  },
  "language_info": {
   "codemirror_mode": {
    "name": "ipython",
    "version": 3
   },
   "file_extension": ".py",
   "mimetype": "text/x-python",
   "name": "python",
   "nbconvert_exporter": "python",
   "pygments_lexer": "ipython3",
   "version": "3.10.7"
  }
 },
 "nbformat": 4,
 "nbformat_minor": 5
}
